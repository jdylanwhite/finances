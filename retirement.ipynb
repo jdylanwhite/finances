{
 "cells": [
  {
   "cell_type": "markdown",
   "id": "4ed1be75-8915-4f2f-ae1f-86496922fa34",
   "metadata": {},
   "source": [
    "# Set Parameters\n",
    "\n",
    "Set up the parameters we need to estimate retirement amounts. The parameters are:\n",
    "\n",
    "* `startDate` : Date to start investment calculations\n",
    "* `initialInvestment` : How much money we begin with prior to performing these calculations\n",
    "* `retirementAmount` : The total investment goal that we'd like to reach before we decide to retire\n",
    "* `monthlyInvestAmount` : The amount of money we'll invest each month\n",
    "* `stockMarketAvg`: How well we expect the stock market to perform on average (without considering inflation)\n",
    "* `stockMarketVar`: Variance for the stock market, to assess best/worst case scenarios\n",
    "* `bondAvg`: As in `stockMarketAvg`, but for bond performance\n",
    "* `bondVar`: As in `stockMarketVar`, but for bond performance\n",
    "* `houseMarketAvg`: As in `stockMarketAvg`, but for housing performance\n",
    "* `houseMarketVar`: As in `stockMarketVar`, but for housing performance"
   ]
  },
  {
   "cell_type": "code",
   "execution_count": 55,
   "id": "42a6232b-08a2-43d9-8318-37cbbe89b7e9",
   "metadata": {},
   "outputs": [],
   "source": [
    "# Set the start date in DD-MM-YY format\n",
    "startDate = \"01-01-22\"\n",
    "\n",
    "# Set the starting amount in dollars\n",
    "initialStockInvestment = 0\n",
    "initialBondInvestment = 0\n",
    "\n",
    "# Set parameters for retirement in dollars\n",
    "retirementAmount = 2000000\n",
    "monthlyInvestAmount = 3500\n",
    "\n",
    "# Set parameters for stock market performance\n",
    "stockMarketAvg = 0.1\n",
    "stockMarketVar = 0.02\n",
    "\n",
    "# Set parameters for bond performance\n",
    "bondAvg = 0.02\n",
    "bondVar = 0.01\n",
    "\n",
    "# Set parameters for house market peformance\n",
    "houseMarketAvg = 0.04\n",
    "houseMarketVar = 0.01\n",
    "\n",
    "# Set stock/bond ratio\n",
    "preRetirementStockPercentage = 0.9\n",
    "postRetirementStockPercentage = 0.6\n",
    "\n",
    "# Set parameters for inflation and adjust performances for inflation\n",
    "inflation = 0.03"
   ]
  },
  {
   "cell_type": "code",
   "execution_count": 7,
   "id": "284f624e-cd27-4adb-9a8e-e12b18f2d92f",
   "metadata": {},
   "outputs": [],
   "source": [
    "suppressMessages(require(lubridate))"
   ]
  },
  {
   "cell_type": "code",
   "execution_count": 60,
   "id": "32177030-0b9d-4d7a-8d4d-7dd44b546227",
   "metadata": {},
   "outputs": [],
   "source": [
    "investedStockTotal = initialStockInvestment\n",
    "investedStockTotalWorst = initialStockInvestment\n",
    "investedStockTotalBest = initialStockInvestment\n",
    "investedBondTotal = initialBondInvestment\n",
    "investedBondTotalWorst = initialBondInvestment\n",
    "investedBondTotalBest = initialBondInvestment\n",
    "numMonths = 20*12\n",
    "for (i in (1:numMonths)) {\n",
    "    \n",
    "    # Calculate stock market investments\n",
    "    investedStockTotal = investedStockTotal*(stockMarketAvg/12.+1)\n",
    "    investedStockTotal = investedStockTotal + monthlyInvestAmount*preRetirementStockPercentage\n",
    "    investedStockTotalBest = investedStockTotalBest*((stockMarketAvg+stockMarketVar)/12.+1)\n",
    "    investedStockTotalBest = investedStockTotalBest + monthlyInvestAmount*preRetirementStockPercentage\n",
    "    investedStockTotalWorst = investedStockTotalWorst*((stockMarketAvg-stockMarketVar)/12.+1)\n",
    "    investedStockTotalWorst = investedStockTotalWorst + monthlyInvestAmount*preRetirementStockPercentage\n",
    "    \n",
    "    # Calculate bond investments\n",
    "    investedBondTotal = investedBondTotal*(bondAvg/12.+1)\n",
    "    investedBondTotal = investedBondTotal + monthlyInvestAmount*(1-preRetirementStockPercentage)\n",
    "    investedBondTotalBest = investedBondTotalBest*((bondAvg+bondVar)/12.+1)\n",
    "    investedBondTotalBest = investedBondTotalBest + monthlyInvestAmount*(1-preRetirementStockPercentage)\n",
    "    investedBondTotalWorst = investedBondTotalWorst*((bondAvg-bondVar)/12.+1)\n",
    "    investedBondTotalWorst = investedBondTotalWorst + monthlyInvestAmount*(1-preRetirementStockPercentage)\n",
    "}"
   ]
  },
  {
   "cell_type": "code",
   "execution_count": 77,
   "id": "3e7aec5c-fa24-4566-93fb-d1be00ac8f07",
   "metadata": {},
   "outputs": [
    {
     "name": "stdout",
     "output_type": "stream",
     "text": [
      "[1] \"Worst case:\"\n",
      "Stocks:  1855414 \n",
      "Bonds:  92946.43 \n",
      "Total:  1948361 \n",
      "\n",
      "[1] \"Average case:\"\n",
      "Stocks:  2392012 \n",
      "Bonds:  103178.9 \n",
      "Total:  2495191 \n",
      "\n",
      "[1] \"Best case:\"\n",
      "Stocks:  3116154 \n",
      "Bonds:  114905.7 \n",
      "Total:  3231060 \n"
     ]
    }
   ],
   "source": [
    "print(\"Worst case:\")\n",
    "cat(\"Stocks: \",investedStockTotalWorst,'\\n')\n",
    "cat(\"Bonds: \",investedBondTotalWorst,'\\n')\n",
    "cat(\"Total: \",investedStockTotalWorst+investedBondTotalWorst,'\\n\\n')\n",
    "\n",
    "print(\"Average case:\")\n",
    "cat(\"Stocks: \",investedStockTotal,'\\n')\n",
    "cat(\"Bonds: \",investedBondTotal,'\\n')\n",
    "cat(\"Total: \",investedStockTotal+investedBondTotal,'\\n\\n')\n",
    "\n",
    "print(\"Best case:\")\n",
    "cat(\"Stocks: \",investedStockTotalBest,'\\n')\n",
    "cat(\"Bonds: \",investedBondTotalBest,'\\n')\n",
    "cat(\"Total: \",investedStockTotalBest+investedBondTotalBest,'\\n')"
   ]
  }
 ],
 "metadata": {
  "kernelspec": {
   "display_name": "R",
   "language": "R",
   "name": "ir"
  },
  "language_info": {
   "codemirror_mode": "r",
   "file_extension": ".r",
   "mimetype": "text/x-r-source",
   "name": "R",
   "pygments_lexer": "r",
   "version": "3.6.1"
  }
 },
 "nbformat": 4,
 "nbformat_minor": 5
}
